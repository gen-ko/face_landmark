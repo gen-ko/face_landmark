{
 "cells": [
  {
   "cell_type": "code",
   "execution_count": 1,
   "metadata": {},
   "outputs": [],
   "source": [
    "%load_ext autoreload\n",
    "%autoreload 2"
   ]
  },
  {
   "cell_type": "code",
   "execution_count": 2,
   "metadata": {},
   "outputs": [
    {
     "name": "stdout",
     "output_type": "stream",
     "text": [
      "0\r\n"
     ]
    }
   ],
   "source": [
    "import numpy as np\n",
    "import tensorflow as tf\n",
    "import os\n",
    "from face_detection import face_detector\n",
    "\n",
    "os.environ[\"CUDA_DEVICE_ORDER\"]=\"PCI_BUS_ID\"\n",
    "os.environ[\"CUDA_VISIBLE_DEVICES\"]=\"0\"\n",
    "!echo ${CUDA_VISIBLE_DEVICES}"
   ]
  },
  {
   "cell_type": "code",
   "execution_count": 25,
   "metadata": {},
   "outputs": [],
   "source": [
    "class E2EFace(object):\n",
    "    def __init__(self):\n",
    "        self.landmark_model = LandmarkModel('/barn2/yuan/saved_model/3D-FAN-NHWC-0')    # accept NHWC\n",
    "        self.detection_model = face_detector.FaceDetector()\n",
    "        return\n",
    "    \n",
    "    def get_bbx(self, img):\n",
    "\n",
    "        # assume img is in uint8 bgr format\n",
    "        frame_bgr_hwc_uint8 = img\n",
    "        #frame_rgb_hwc_uint8 = cv2.cvtColor(frame_bgr_hwc_uint8, cv2.COLOR_BGR2RGB)\n",
    "\n",
    "        box = self.detection_model.predict_1x1(x=img)\n",
    "\n",
    "        y_min = int(box[0] * img.shape[0])\n",
    "        x_min = int(box[1] * img.shape[1])\n",
    "        y_max = int(box[2] * img.shape[0])\n",
    "        x_max = int(box[3] * img.shape[1])\n",
    "        #print(scores[0][0])\n",
    "        #cv2.rectangle(frame_bgr_hwc_uint8, (x_min, y_min), (x_max, y_max), (0, 255, 0), 2)\n",
    "        return x_min, y_min, x_max, y_max\n",
    "\n",
    "    def get_landmark_v2(self, img, x_min, y_min, x_max, y_max):\n",
    "\n",
    "\n",
    "        center = torch.FloatTensor(\n",
    "            [x_max - (x_max - x_min) / 2.0, y_max - (y_max - y_min) / 2.0])\n",
    "        center[1] = center[1] - (y_max - y_min) * 0.12\n",
    "        scale = (x_max - x_min + y_max - y_min) / 195.0\n",
    "\n",
    "        inp = uo.crop(img, center, scale)\n",
    "\n",
    "        inp = inp.astype(np.float32) / 255.0\n",
    "\n",
    "        out = self.landmark_model.predict([inp])[0]  # (64, 64, 68)\n",
    "\n",
    "        inp_flipped = uo.flip(inp).numpy()  # (256, 256, 3)\n",
    "\n",
    "        #print(inp_flipped.shape)\n",
    "\n",
    "        out_3 = self.landmark_model.predict([inp_flipped])[0]\n",
    "\n",
    "\n",
    "        #print('out_3 shape', out_3.shape)\n",
    "        out_4 = uo.flip(out_3, is_label=True) # (64, 64, 68)\n",
    "        out += out_4\n",
    "        #print('out_4 shape', out_4.shape)\n",
    "\n",
    "        pts, pts_img = uo.get_preds_fromhm(out, center, scale)\n",
    "        pts, pts_img = pts.view(68, 2) * 4, pts_img.view(68, 2) # (68, 2)\n",
    "\n",
    "        # convert face back\n",
    "        pts = [uo.transform(pt, center, scale, 256, invert=True) for pt in pts.tolist()]\n",
    "        pts = [pt.numpy() for pt in pts]\n",
    "        pts = np.array(pts)\n",
    "\n",
    "        return pts\n",
    "\n",
    "    def predict_v2(self, img, with_bbx=False):\n",
    "\n",
    "        # NOTE: face_detector accepts uint8 HWC RGB format\n",
    "        #rects = face_detector(frame_rgb_hwc_uint8, 1)\n",
    "        #is_rect_exist, left, right, top, bottom = preprocess_rects(rects)\n",
    "        #is_rect_exist, left, right, top, bottom = True, 269,375, 473, 578i\n",
    "\n",
    "\n",
    "        left, top, right, bottom = self.get_bbx(img)\n",
    "        bbx = [left, top, right, bottom]\n",
    "        if not with_bbx:\n",
    "            return self.get_landmark_v2(img, left, top, right, bottom)\n",
    "        else:\n",
    "            return self.get_landmark_v2(img, left, top, right, bottom), bbx\n",
    "\n",
    "class LandmarkModel(object):\n",
    "    def __init__(self, model_dir: str):\n",
    "        config = tf.ConfigProto()\n",
    "        config.gpu_options.allow_growth=True\n",
    "        graph = tf.Graph()\n",
    "        self.sess = tf.Session(config=config, graph=graph)\n",
    "        with graph.as_default():\n",
    "            tf.saved_model.loader.load(self.sess, [tf.saved_model.tag_constants.SERVING], model_dir)\n",
    "            self.x = tf.get_default_graph().get_tensor_by_name(\"x:0\")\n",
    "            self.y = tf.get_default_graph().get_tensor_by_name(\"y:0\")\n",
    "            init_op = tf.global_variables_initializer()\n",
    "        self.sess.run(init_op)\n",
    "        return\n",
    "\n",
    "    def predict(self, x):\n",
    "        return self.sess.run(self.y, {self.x:x})\n"
   ]
  },
  {
   "cell_type": "code",
   "execution_count": 16,
   "metadata": {},
   "outputs": [],
   "source": [
    "import matplotlib.pyplot as plt\n",
    "from scipy.interpolate import BSpline\n",
    "def find_nearest(array, value):\n",
    "    array = np.asarray(array)\n",
    "    idx = (np.abs(array - value)).argmin()\n",
    "    return array[idx]\n",
    "\n",
    "def find_nearest_idx(array, value):\n",
    "    array = np.asarray(array)\n",
    "    idx = (np.abs(array - value)).argmin()\n",
    "    return idx\n",
    "\n",
    "def plot_cdf(x, save_path=None):\n",
    "    num_bins = x.shape[0]\n",
    "    counts, bin_edges = np.histogram (x, bins=num_bins)\n",
    "    cdf = np.cumsum (counts)\n",
    "\n",
    "    x_axis = bin_edges[1:]\n",
    "    x_axis = np.insert(x_axis, 0, x_axis[0])\n",
    "    x_axis = np.insert(x_axis, 0, 0)\n",
    "\n",
    "    y_axis = cdf/cdf[-1]\n",
    "    y_axis = np.insert(y_axis, 0, 0)\n",
    "    y_axis = np.insert(y_axis, 0, 0)\n",
    "    \n",
    "    n_draw = int(min(find_nearest_idx(y_axis, 0.9) * 2, y_axis.shape[0]*0.98))\n",
    "    x_axis = x_axis[:n_draw] * 100\n",
    "    y_axis = y_axis[:n_draw] * 100\n",
    "    \n",
    "    plt.xlim(0, np.max(x_axis))\n",
    "    plt.ylim(0, 100)\n",
    "    plt.ylabel('sample %')\n",
    "    plt.xlabel('nme %')\n",
    "\n",
    "    #x_axis_finegrain = np.linspace(x_axis.min(), x_axis.max(), int(90000 / num_bins) + num_bins)\n",
    "    #y_axis_smooth = BSpline(x_axis ,y_axis,x_axis_finegrain)\n",
    "    plt.grid()\n",
    "    plt.plot(x_axis, y_axis)\n",
    "    if save_path is not None:\n",
    "        plt.savefig(save_path)\n",
    "    return"
   ]
  },
  {
   "cell_type": "code",
   "execution_count": 44,
   "metadata": {},
   "outputs": [
    {
     "name": "stdout",
     "output_type": "stream",
     "text": [
      "1.1.0\n"
     ]
    }
   ],
   "source": [
    "import scipy\n",
    "print(scipy.__version__)"
   ]
  },
  {
   "cell_type": "code",
   "execution_count": 8,
   "metadata": {},
   "outputs": [],
   "source": [
    "from face_landmark import load_dataset\n",
    "from face_landmark.metric import nme\n",
    "from face_landmark.metric import nme_v2\n",
    "from face_landmark.fan_tf import util_official as uo\n",
    "import torch\n",
    "import matplotlib.pyplot as plt \n",
    "from matplotlib.patches import Circle\n",
    "from face_detection import face_detector\n",
    "import PIL\n",
    "from face_landmark import preprocess\n",
    "def run_benchmark(dataset_dir=None, iterator=None):\n",
    "    if dataset_dir is not None:\n",
    "        iterator = load_dataset.DatasetIterator(dataset_dir)\n",
    "    e2e_model = E2EFace()\n",
    "    nmes = []\n",
    "    for i, (anno, img) in enumerate(iterator):\n",
    "        anno_3d = anno[1]\n",
    "        rvalue = e2e_model.predict_v2(img, with_bbx=True)\n",
    "        if rvalue is not None:\n",
    "            landmarks, bbx = rvalue\n",
    "            d = np.sqrt((bbx[2] - bbx[0])*(bbx[3]-bbx[1]))\n",
    "            nme_score_3d = nme(landmarks, anno_3d, d)\n",
    "            nmes.append(nme_score_3d) \n",
    "    return nmes\n",
    "\n",
    "class Dataset(object):\n",
    "    def __init__(self):\n",
    "        self.detector = face_detector.FaceDetector()\n",
    "        self.landmark_xmin_stat = []\n",
    "        self.landmark_ymin_stat = []\n",
    "        self.landmark_xmax_stat = []\n",
    "        self.landmark_ymax_stat = []\n",
    "        self.aspect_ratio_stat = []\n",
    "        \n",
    "    def auto_crop(self, image, landmark):\n",
    "        try:\n",
    "            bbx = self.detector.predict_1x1(image)\n",
    "        except face_detector.DetectionError:\n",
    "            bbx = np.array([0.0, 0.0, 1.0, 1.0])\n",
    "        height_raw, width_raw, _ = image.shape\n",
    "        \n",
    "        # landmarks \n",
    "        landmark_xmin = landmark[:,0].min()\n",
    "        landmark_xmax = landmark[:,0].max()\n",
    "        landmark_ymin = landmark[:,1].min()\n",
    "        landmark_ymax = landmark[:,1].max()\n",
    "        \n",
    "        self.landmark_xmin_stat.append((bbx[1] - landmark_xmin) / (bbx[3] - bbx[1]))\n",
    "        self.landmark_xmax_stat.append((bbx[3] - landmark_xmax) / (bbx[3] - bbx[1]))\n",
    "        self.landmark_ymin_stat.append((bbx[0] - landmark_ymin) / (bbx[2] - bbx[0]))\n",
    "        self.landmark_ymax_stat.append((bbx[2] - landmark_ymax) / (bbx[2] - bbx[0]))\n",
    "        self.aspect_ratio_stat.append((bbx[2] - bbx[0]) / (bbx[3] - bbx[1]))\n",
    "        \n",
    "        crop_xmin = max(min(bbx[1], landmark_xmin), 0.0)\n",
    "        crop_xmax = min(max(bbx[3], landmark_xmax), 1.0)\n",
    "        crop_ymin = max(min(bbx[0], landmark_ymin), 0.0)\n",
    "        crop_ymax = min(max(bbx[2], landmark_ymax), 1.0)\n",
    "        \n",
    "        crop_width = crop_xmax - crop_xmin\n",
    "        crop_height = crop_ymax - crop_ymin\n",
    "                \n",
    "        # cropped origin  [0, 1)\n",
    "        origin_x = bbx[1] \n",
    "        origin_y = bbx[0]\n",
    "        \n",
    "        # shift\n",
    "        scale_x = 1.0 / crop_width\n",
    "        scale_y = 1.0 / crop_height\n",
    "        shift_x = - crop_xmin / crop_width\n",
    "        shift_y = - crop_ymin / crop_height\n",
    "        \n",
    "        \n",
    "        transform_matrix = np.array([[scale_x, 0, shift_x],\n",
    "                                     [0, scale_y, shift_y],\n",
    "                                     [0, 0, 1]]).astype(np.float32)\n",
    "        landmark_e = np.ones([68, 3], dtype=np.float32)\n",
    "        landmark_e[:, :2] = landmark\n",
    "        landmark = np.matmul(landmark_e, transform_matrix.T)[:, :2]\n",
    "        image = image[int(height_raw*crop_ymin):int(height_raw*crop_ymax), int(width_raw*crop_xmin):int(width_raw*crop_xmax)]\n",
    "        return image, landmark\n",
    "    \n",
    "    def auto_crop_and_resize(self, image, landmark, target_size=256):\n",
    "        image, landmark = self.auto_crop(image, landmark)\n",
    "        image = PIL.Image.fromarray(image)\n",
    "        image = image.resize([target_size, target_size], resample=PIL.Image.BILINEAR)\n",
    "        return image, landmark\n",
    "\n",
    "\n",
    "def run_imagemark(dataset, dataset_dir=None, iterator=None, render=True):\n",
    "    \n",
    "    if dataset_dir is not None:\n",
    "        iterator = load_dataset.DatasetIterator(dataset_dir)\n",
    "    \n",
    "    detector = face_detector.FaceDetector()\n",
    "    for i, (anno, img) in enumerate(iterator):\n",
    "        anno_3d = anno[1]\n",
    "        bbx = detector.predict_1x1(img)\n",
    "        img, anno = preprocess.train_preprocess(img, anno_3d/450.0, bbx)\n",
    "        #img, anno = dataset.auto_crop_and_resize(img, anno_3d / 450.0)\n",
    "        #print(anno)\n",
    "        if render:\n",
    "            fig,ax = plt.subplots(1)\n",
    "            ax.set_aspect('equal')\n",
    "\n",
    "\n",
    "            for i in range(68):\n",
    "                x, y = anno[i]\n",
    "                x = int(x*256)\n",
    "                y = int(y*256)\n",
    "                circ = Circle((x, y),3)\n",
    "                ax.add_patch(circ)\n",
    "\n",
    "\n",
    "            ax.imshow(img)\n",
    "    return \n",
    "\n",
    "\n",
    "\n"
   ]
  },
  {
   "cell_type": "code",
   "execution_count": 26,
   "metadata": {},
   "outputs": [
    {
     "name": "stdout",
     "output_type": "stream",
     "text": [
      "INFO:tensorflow:Restoring parameters from /barn2/yuan/saved_model/3D-FAN-NHWC-0/variables/variables\n"
     ]
    },
    {
     "data": {
      "image/png": "[encoded data removed]",
      "text/plain": [
       "<Figure size 432x288 with 1 Axes>"
      ]
     },
     "metadata": {
      "needs_background": "light"
     },
     "output_type": "display_data"
    }
   ],
   "source": [
    "# Test benchmark on minidataset\n",
    "\n",
    "\n",
    "dataset_dir = '/barn2/yuan/datasets/300W_LP_mini/json'\n",
    "nmes = run_benchmark(dataset_dir)\n",
    "os.makedirs('/barn2/yuan/crafting/face_landmark/data',exist_ok=True)\n",
    "np.save(file='/barn2/yuan/crafting/face_landmark/data/nmes_300W_LP_mini.npy',arr=nmes)\n",
    "plot_cdf(np.array(nmes), '/barn2/yuan/crafting/face_landmark/data/nmes_300W_LP_mini.png')\n",
    "#plot_cdf(np.array(nmes_v2))"
   ]
  },
  {
   "cell_type": "code",
   "execution_count": 9,
   "metadata": {},
   "outputs": [
    {
     "ename": "TypeError",
     "evalue": "train_preprocess() missing 1 required positional argument: 'bbx'",
     "output_type": "error",
     "traceback": [
      "\u001b[0;31m---------------------------------------------------------------------------\u001b[0m",
      "\u001b[0;31mTypeError\u001b[0m                                 Traceback (most recent call last)",
      "\u001b[0;32m<ipython-input-9-6348e1c990d9>\u001b[0m in \u001b[0;36m<module>\u001b[0;34m()\u001b[0m\n\u001b[1;32m      1\u001b[0m \u001b[0mdataset_dir\u001b[0m \u001b[0;34m=\u001b[0m \u001b[0;34m'/barn2/yuan/datasets/300W_LP_mini/json'\u001b[0m\u001b[0;34m\u001b[0m\u001b[0m\n\u001b[1;32m      2\u001b[0m \u001b[0mdataset\u001b[0m \u001b[0;34m=\u001b[0m \u001b[0mDataset\u001b[0m\u001b[0;34m(\u001b[0m\u001b[0;34m)\u001b[0m\u001b[0;34m\u001b[0m\u001b[0m\n\u001b[0;32m----> 3\u001b[0;31m \u001b[0mnmes\u001b[0m \u001b[0;34m=\u001b[0m \u001b[0mrun_imagemark\u001b[0m\u001b[0;34m(\u001b[0m\u001b[0mdataset\u001b[0m\u001b[0;34m,\u001b[0m \u001b[0mdataset_dir\u001b[0m\u001b[0;34m)\u001b[0m\u001b[0;34m\u001b[0m\u001b[0m\n\u001b[0m",
      "\u001b[0;32m<ipython-input-8-6e206ec95fbd>\u001b[0m in \u001b[0;36mrun_imagemark\u001b[0;34m(dataset, dataset_dir, iterator, render)\u001b[0m\n\u001b[1;32m     96\u001b[0m         \u001b[0manno_3d\u001b[0m \u001b[0;34m=\u001b[0m \u001b[0manno\u001b[0m\u001b[0;34m[\u001b[0m\u001b[0;36m1\u001b[0m\u001b[0;34m]\u001b[0m\u001b[0;34m\u001b[0m\u001b[0m\n\u001b[1;32m     97\u001b[0m         \u001b[0mbbx\u001b[0m \u001b[0;34m=\u001b[0m \u001b[0mdetector\u001b[0m\u001b[0;34m.\u001b[0m\u001b[0mpredict_1x1\u001b[0m\u001b[0;34m(\u001b[0m\u001b[0mimg\u001b[0m\u001b[0;34m)\u001b[0m\u001b[0;34m\u001b[0m\u001b[0m\n\u001b[0;32m---> 98\u001b[0;31m         \u001b[0mimg\u001b[0m\u001b[0;34m,\u001b[0m \u001b[0manno\u001b[0m \u001b[0;34m=\u001b[0m \u001b[0mpreprocess\u001b[0m\u001b[0;34m.\u001b[0m\u001b[0mtrain_preprocess\u001b[0m\u001b[0;34m(\u001b[0m\u001b[0mimg\u001b[0m\u001b[0;34m,\u001b[0m \u001b[0manno_3d\u001b[0m\u001b[0;34m/\u001b[0m\u001b[0;36m450.0\u001b[0m\u001b[0;34m)\u001b[0m\u001b[0;34m\u001b[0m\u001b[0m\n\u001b[0m\u001b[1;32m     99\u001b[0m         \u001b[0;31m#img, anno = dataset.auto_crop_and_resize(img, anno_3d / 450.0)\u001b[0m\u001b[0;34m\u001b[0m\u001b[0;34m\u001b[0m\u001b[0m\n\u001b[1;32m    100\u001b[0m         \u001b[0;31m#print(anno)\u001b[0m\u001b[0;34m\u001b[0m\u001b[0;34m\u001b[0m\u001b[0m\n",
      "\u001b[0;31mTypeError\u001b[0m: train_preprocess() missing 1 required positional argument: 'bbx'"
     ]
    }
   ],
   "source": [
    "dataset_dir = '/barn2/yuan/datasets/300W_LP_mini/json'\n",
    "dataset = Dataset()\n",
    "nmes = run_imagemark(dataset, dataset_dir)"
   ]
  },
  {
   "cell_type": "code",
   "execution_count": 79,
   "metadata": {},
   "outputs": [
    {
     "name": "stdout",
     "output_type": "stream",
     "text": [
      "0.04529222\n",
      "0.044707112\n",
      "0.04845556\n",
      "[-0.21218736, -0.20472787, -0.22928365, -0.18314877, -0.19821207, -0.23708884, -0.20451978, -0.19752908, -0.1949706, -0.23170595, -0.21226048, -0.2549001, -0.24626863, -0.1774286, -0.23625131, -0.19685765, -0.22718368, -0.20926136]\n",
      "1.2899084\n"
     ]
    }
   ],
   "source": [
    "print(np.abs(dataset.landmark_xmax_stat).max())\n",
    "print(np.abs(dataset.landmark_xmin_stat).max())\n",
    "print(np.abs(dataset.landmark_ymax_stat).max())\n",
    "print(dataset.landmark_ymin_stat)\n",
    "print(np.mean(dataset.aspect_ratio_stat))"
   ]
  },
  {
   "cell_type": "code",
   "execution_count": 82,
   "metadata": {},
   "outputs": [],
   "source": [
    "dataset_dir = '/barn2/yuan/datasets/300W_LP/json'\n",
    "dataset = Dataset()\n",
    "nmes = run_imagemark(dataset, dataset_dir, render=False)"
   ]
  },
  {
   "cell_type": "code",
   "execution_count": 85,
   "metadata": {},
   "outputs": [
    {
     "name": "stdout",
     "output_type": "stream",
     "text": [
      "-0.010988843\n",
      "0.01721394\n",
      "-0.05291888\n",
      "-0.2055593\n",
      "1.2973754\n"
     ]
    }
   ],
   "source": [
    "print(np.mean(dataset.landmark_xmax_stat).max())\n",
    "print(np.mean(dataset.landmark_xmin_stat).max())\n",
    "print(np.mean(dataset.landmark_ymax_stat).max())\n",
    "print(np.mean(dataset.landmark_ymin_stat))\n",
    "print(np.mean(dataset.aspect_ratio_stat))"
   ]
  },
  {
   "cell_type": "code",
   "execution_count": 88,
   "metadata": {},
   "outputs": [
    {
     "name": "stdout",
     "output_type": "stream",
     "text": [
      "Collecting seaborn\n",
      "\u001b[?25l  Downloading https://files.pythonhosted.org/packages/a8/76/220ba4420459d9c4c9c9587c6ce607bf56c25b3d3d2de62056efe482dadc/seaborn-0.9.0-py3-none-any.whl (208kB)\n",
      "\u001b[K    100% |████████████████████████████████| 215kB 7.0MB/s ta 0:00:01\n",
      "\u001b[?25hRequirement already satisfied: numpy>=1.9.3 in /home/yuanliu/vroot/lib/python3.6/site-packages (from seaborn) (1.15.1)\n",
      "Requirement already satisfied: matplotlib>=1.4.3 in /home/yuanliu/vroot/lib/python3.6/site-packages (from seaborn) (2.2.3)\n",
      "Requirement already satisfied: scipy>=0.14.0 in /home/yuanliu/vroot/lib/python3.6/site-packages (from seaborn) (1.1.0)\n",
      "Requirement already satisfied: pandas>=0.15.2 in /home/yuanliu/vroot/lib/python3.6/site-packages (from seaborn) (0.23.4)\n",
      "Requirement already satisfied: cycler>=0.10 in /home/yuanliu/vroot/lib/python3.6/site-packages (from matplotlib>=1.4.3->seaborn) (0.10.0)\n",
      "Requirement already satisfied: kiwisolver>=1.0.1 in /home/yuanliu/vroot/lib/python3.6/site-packages (from matplotlib>=1.4.3->seaborn) (1.0.1)\n",
      "Requirement already satisfied: pyparsing!=2.0.4,!=2.1.2,!=2.1.6,>=2.0.1 in /home/yuanliu/vroot/lib/python3.6/site-packages (from matplotlib>=1.4.3->seaborn) (2.2.0)\n",
      "Requirement already satisfied: python-dateutil>=2.1 in /home/yuanliu/vroot/lib/python3.6/site-packages (from matplotlib>=1.4.3->seaborn) (2.7.3)\n",
      "Requirement already satisfied: pytz in /home/yuanliu/vroot/lib/python3.6/site-packages (from matplotlib>=1.4.3->seaborn) (2018.5)\n",
      "Requirement already satisfied: six>=1.10 in /home/yuanliu/vroot/lib/python3.6/site-packages (from matplotlib>=1.4.3->seaborn) (1.11.0)\n",
      "Requirement already satisfied: setuptools in /home/yuanliu/vroot/lib/python3.6/site-packages (from kiwisolver>=1.0.1->matplotlib>=1.4.3->seaborn) (39.0.1)\n",
      "Installing collected packages: seaborn\n",
      "Successfully installed seaborn-0.9.0\n"
     ]
    }
   ],
   "source": [
    "!pip install seaborn"
   ]
  },
  {
   "cell_type": "code",
   "execution_count": 106,
   "metadata": {},
   "outputs": [
    {
     "name": "stderr",
     "output_type": "stream",
     "text": [
      "/home/yuanliu/vroot/lib/python3.6/site-packages/scipy/stats/stats.py:1713: FutureWarning: Using a non-tuple sequence for multidimensional indexing is deprecated; use `arr[tuple(seq)]` instead of `arr[seq]`. In the future this will be interpreted as an array index, `arr[np.array(seq)]`, which will result either in an error or a different result.\n",
      "  return np.add.reduce(sorted[indexer] * weights, axis=axis) / sumval\n"
     ]
    },
    {
     "data": {
      "text/plain": [
       "(-0.3, 0.3)"
      ]
     },
     "execution_count": 106,
     "metadata": {},
     "output_type": "execute_result"
    },
    {
     "data": {
      "image/png": "[encoded data removed]",
      "text/plain": [
       "<Figure size 432x288 with 1 Axes>"
      ]
     },
     "metadata": {
      "needs_background": "light"
     },
     "output_type": "display_data"
    }
   ],
   "source": [
    "import numpy as np\n",
    "import pandas as pd\n",
    "import seaborn as sns\n",
    "import matplotlib.pyplot as plt\n",
    "from scipy import stats\n",
    "from scipy.stats import norm\n",
    "\n",
    "tmp = np.array(dataset.landmark_xmax_stat)\n",
    "tmp = tmp[tmp > -0.35]\n",
    "tmp = tmp[tmp < 0.35]\n",
    "dist = sns.distplot(tmp, fit=norm, kde=True)\n",
    "\n",
    "axes = dist.axes\n",
    "axes.set_xlim(-0.3,0.3)"
   ]
  },
  {
   "cell_type": "code",
   "execution_count": 107,
   "metadata": {},
   "outputs": [
    {
     "name": "stderr",
     "output_type": "stream",
     "text": [
      "/home/yuanliu/vroot/lib/python3.6/site-packages/scipy/stats/stats.py:1713: FutureWarning: Using a non-tuple sequence for multidimensional indexing is deprecated; use `arr[tuple(seq)]` instead of `arr[seq]`. In the future this will be interpreted as an array index, `arr[np.array(seq)]`, which will result either in an error or a different result.\n",
      "  return np.add.reduce(sorted[indexer] * weights, axis=axis) / sumval\n"
     ]
    },
    {
     "data": {
      "image/png": "[encoded data removed]",
      "text/plain": [
       "<Figure size 432x288 with 1 Axes>"
      ]
     },
     "metadata": {
      "needs_background": "light"
     },
     "output_type": "display_data"
    }
   ],
   "source": [
    "tmp = np.array(dataset.landmark_xmin_stat)\n",
    "tmp = tmp[tmp > -0.35]\n",
    "tmp = tmp[tmp < 0.35]\n",
    "dist = sns.distplot(tmp, fit=norm, kde=True)\n",
    "\n",
    "axes = dist.axes\n",
    "#axes.set_xlim(-0.3,0.3)"
   ]
  },
  {
   "cell_type": "code",
   "execution_count": 111,
   "metadata": {},
   "outputs": [
    {
     "name": "stderr",
     "output_type": "stream",
     "text": [
      "/home/yuanliu/vroot/lib/python3.6/site-packages/scipy/stats/stats.py:1713: FutureWarning: Using a non-tuple sequence for multidimensional indexing is deprecated; use `arr[tuple(seq)]` instead of `arr[seq]`. In the future this will be interpreted as an array index, `arr[np.array(seq)]`, which will result either in an error or a different result.\n",
      "  return np.add.reduce(sorted[indexer] * weights, axis=axis) / sumval\n"
     ]
    },
    {
     "data": {
      "image/png": "[encoded data removed]",
      "text/plain": [
       "<Figure size 432x288 with 1 Axes>"
      ]
     },
     "metadata": {
      "needs_background": "light"
     },
     "output_type": "display_data"
    }
   ],
   "source": [
    "tmp = np.array(dataset.landmark_xmax_stat)\n",
    "tmp = tmp[tmp > -0.35 + tmp.mean()]\n",
    "tmp = tmp[tmp < 0.35+ tmp.mean()]\n",
    "dist = sns.distplot(tmp, fit=norm, kde=True)\n",
    "\n",
    "axes = dist.axes\n",
    "#axes.set_xlim(-0.3,0.3)"
   ]
  },
  {
   "cell_type": "code",
   "execution_count": 109,
   "metadata": {},
   "outputs": [
    {
     "name": "stderr",
     "output_type": "stream",
     "text": [
      "/home/yuanliu/vroot/lib/python3.6/site-packages/scipy/stats/stats.py:1713: FutureWarning: Using a non-tuple sequence for multidimensional indexing is deprecated; use `arr[tuple(seq)]` instead of `arr[seq]`. In the future this will be interpreted as an array index, `arr[np.array(seq)]`, which will result either in an error or a different result.\n",
      "  return np.add.reduce(sorted[indexer] * weights, axis=axis) / sumval\n"
     ]
    },
    {
     "data": {
      "image/png": "[encoded data removed]",
      "text/plain": [
       "<Figure size 432x288 with 1 Axes>"
      ]
     },
     "metadata": {
      "needs_background": "light"
     },
     "output_type": "display_data"
    }
   ],
   "source": [
    "tmp = np.array(dataset.landmark_ymin_stat)\n",
    "tmp = tmp[tmp > -0.35 + tmp.mean()]\n",
    "tmp = tmp[tmp < 0.35+ tmp.mean()]\n",
    "dist = sns.distplot(tmp, fit=norm, kde=True)\n",
    "\n",
    "axes = dist.axes\n",
    "#axes.set_xlim(-0.3,0.3)"
   ]
  },
  {
   "cell_type": "code",
   "execution_count": 110,
   "metadata": {},
   "outputs": [
    {
     "name": "stderr",
     "output_type": "stream",
     "text": [
      "/home/yuanliu/vroot/lib/python3.6/site-packages/scipy/stats/stats.py:1713: FutureWarning: Using a non-tuple sequence for multidimensional indexing is deprecated; use `arr[tuple(seq)]` instead of `arr[seq]`. In the future this will be interpreted as an array index, `arr[np.array(seq)]`, which will result either in an error or a different result.\n",
      "  return np.add.reduce(sorted[indexer] * weights, axis=axis) / sumval\n"
     ]
    },
    {
     "data": {
      "image/png": "[encoded data removed]",
      "text/plain": [
       "<Figure size 432x288 with 1 Axes>"
      ]
     },
     "metadata": {
      "needs_background": "light"
     },
     "output_type": "display_data"
    }
   ],
   "source": [
    "tmp = np.array(dataset.landmark_ymax_stat)\n",
    "tmp = tmp[tmp > -0.35 + tmp.mean()]\n",
    "tmp = tmp[tmp < 0.35+ tmp.mean()]\n",
    "dist = sns.distplot(tmp, fit=norm, kde=True)\n",
    "\n",
    "axes = dist.axes\n",
    "#axes.set_xlim(-0.3,0.3)"
   ]
  },
  {
   "cell_type": "code",
   "execution_count": 113,
   "metadata": {},
   "outputs": [
    {
     "name": "stderr",
     "output_type": "stream",
     "text": [
      "/home/yuanliu/vroot/lib/python3.6/site-packages/scipy/stats/stats.py:1713: FutureWarning: Using a non-tuple sequence for multidimensional indexing is deprecated; use `arr[tuple(seq)]` instead of `arr[seq]`. In the future this will be interpreted as an array index, `arr[np.array(seq)]`, which will result either in an error or a different result.\n",
      "  return np.add.reduce(sorted[indexer] * weights, axis=axis) / sumval\n"
     ]
    },
    {
     "data": {
      "image/png": "[encoded data removed]",
      "text/plain": [
       "<Figure size 432x288 with 1 Axes>"
      ]
     },
     "metadata": {
      "needs_background": "light"
     },
     "output_type": "display_data"
    }
   ],
   "source": [
    "tmp = np.array(dataset.aspect_ratio_stat)\n",
    "tmp = tmp[tmp > -0.5 + tmp.mean()]\n",
    "tmp = tmp[tmp < 0.5+ tmp.mean()]\n",
    "dist = sns.distplot(tmp, fit=norm, kde=True)\n",
    "\n",
    "axes = dist.axes\n",
    "#axes.set_xlim(-0.3,0.3)"
   ]
  },
  {
   "cell_type": "code",
   "execution_count": 109,
   "metadata": {},
   "outputs": [
    {
     "name": "stdout",
     "output_type": "stream",
     "text": [
      "INFO:tensorflow:Restoring parameters from /barn2/yuan/saved_model/3D-FAN-NHWC-0/variables/variables\n"
     ]
    },
    {
     "data": {
      "image/png": "[encoded data removed]",
      "text/plain": [
       "<Figure size 432x288 with 1 Axes>"
      ]
     },
     "metadata": {
      "needs_background": "light"
     },
     "output_type": "display_data"
    }
   ],
   "source": [
    "# Test benchmark on full dataset\n",
    "from face_landmark import load_dataset\n",
    "from face_landmark.metric import nme\n",
    "from face_landmark.fan_tf import util_official as uo\n",
    "import torch\n",
    "\n",
    "dataset_dir = '/barn2/yuan/datasets/300W_LP/json'\n",
    "nmes = run_benchmark(dataset_dir)\n",
    "os.makedirs('/barn2/yuan/crafting/face_landmark/data',exist_ok=True)\n",
    "np.save(file='/barn2/yuan/crafting/face_landmark/data/nmes_300W_LP_corrected.npy',arr=nmes)\n",
    "plot_cdf(np.array(nmes), '/barn2/yuan/crafting/face_landmark/data/nmes_300W_LP_corrected.png')\n"
   ]
  },
  {
   "cell_type": "code",
   "execution_count": 142,
   "metadata": {},
   "outputs": [
    {
     "name": "stdout",
     "output_type": "stream",
     "text": [
      "(61225,)\n"
     ]
    },
    {
     "data": {
      "image/png": "[encoded data removed]",
      "text/plain": [
       "<Figure size 432x288 with 1 Axes>"
      ]
     },
     "metadata": {
      "needs_background": "light"
     },
     "output_type": "display_data"
    }
   ],
   "source": [
    "nmes_ = np.load('/barn2/yuan/crafting/face_landmark/data/nmes_300W_LP_corrected.npy')\n",
    "print(nmes_.shape)\n",
    "plot_cdf(np.array(nmes_), '/barn2/yuan/crafting/face_landmark/data/nmes_300W_LP_corrected_2.png')"
   ]
  },
  {
   "cell_type": "code",
   "execution_count": 72,
   "metadata": {},
   "outputs": [
    {
     "data": {
      "text/plain": [
       "5.0"
      ]
     },
     "execution_count": 72,
     "metadata": {},
     "output_type": "execute_result"
    }
   ],
   "source": [
    "np.linalg.norm(n1)"
   ]
  },
  {
   "cell_type": "code",
   "execution_count": 73,
   "metadata": {},
   "outputs": [
    {
     "data": {
      "text/plain": [
       "array([0., 5.])"
      ]
     },
     "execution_count": 73,
     "metadata": {},
     "output_type": "execute_result"
    }
   ],
   "source": [
    "np.linalg.norm(n1, axis=0)"
   ]
  },
  {
   "cell_type": "code",
   "execution_count": 74,
   "metadata": {},
   "outputs": [
    {
     "data": {
      "text/plain": [
       "array([3., 4.])"
      ]
     },
     "execution_count": 74,
     "metadata": {},
     "output_type": "execute_result"
    }
   ],
   "source": [
    "np.linalg.norm(n1, axis=1)"
   ]
  },
  {
   "cell_type": "code",
   "execution_count": 102,
   "metadata": {},
   "outputs": [],
   "source": [
    "from face_landmark import metric"
   ]
  },
  {
   "cell_type": "code",
   "execution_count": 103,
   "metadata": {},
   "outputs": [
    {
     "data": {
      "text/plain": [
       "<function face_landmark.metric.nme_v2(x:numpy.ndarray, y:numpy.ndarray, d)>"
      ]
     },
     "execution_count": 103,
     "metadata": {},
     "output_type": "execute_result"
    }
   ],
   "source": [
    "metric.nme_v2"
   ]
  },
  {
   "cell_type": "code",
   "execution_count": 7,
   "metadata": {},
   "outputs": [],
   "source": [
    "import re\n",
    "from utils import pipeline\n",
    "from torch.utils.serialization import load_lua\n",
    "#from scipy.ndimage import imread  # deprecated\n",
    "from PIL import Image\n",
    "def replace_ext(source_filename, source_ext='.jpg', dest_ext='.npy'):\n",
    "    pattern = re.compile('([ \\\\S]+)'+source_ext)\n",
    "    match = pattern.fullmatch(source_filename)\n",
    "    if match is None:\n",
    "        return None\n",
    "    for matched_str in match.groups():\n",
    "        return matched_str + dest_ext\n",
    "\n",
    "class DatasetIterator_AFLW2000(object):\n",
    "    def __init__(self, dump_dir):\n",
    "        image_filenames = pipeline.search_files(dir=dump_dir, pattern=r'([ \\S]+).jpg')\n",
    "        anno_filenames = [replace_ext(image_filename) for image_filename in image_filenames]\n",
    "        self.anno_filenames = anno_filenames\n",
    "        self.image_filenames = image_filenames\n",
    "        self.cnt = 0\n",
    "        return\n",
    "\n",
    "    def __iter__(self):\n",
    "        self.cnt = 0\n",
    "        return self\n",
    "\n",
    "    def __next__(self):\n",
    "        if self.cnt >= len(self.anno_filenames):\n",
    "            raise StopIteration\n",
    "        else:\n",
    "            anno_path = self.anno_filenames[self.cnt]\n",
    "            img_path = self.image_filenames[self.cnt]\n",
    "            anno_3d = np.load(anno_path)[:,:2]\n",
    "            img = np.array(Image.open(fp=img_path))\n",
    "            #img = imread(img_path, flatten=False, mode='RGB')\n",
    "            self.cnt += 1\n",
    "            return (None, anno_3d), img\n",
    "\n",
    "    def __len__(self):\n",
    "        return len(self.anno_filenames)\n",
    "    \n",
    "class DatasetIterator_AFLW2000_Re(object):\n",
    "    def __init__(self, dump_dir, offset=False):\n",
    "        image_filenames = pipeline.search_files(dir=dump_dir, pattern=r'([ \\S]+).jpg')\n",
    "        anno_filenames = [replace_ext(image_filename, dest_ext='.t7') for image_filename in image_filenames]\n",
    "        self.anno_filenames = anno_filenames\n",
    "        self.image_filenames = image_filenames\n",
    "        self.cnt = 0\n",
    "        self.offset = offset\n",
    "        return\n",
    "\n",
    "    def __iter__(self):\n",
    "        self.cnt = 0\n",
    "        return self\n",
    "\n",
    "    def __next__(self):\n",
    "        if self.cnt >= len(self.anno_filenames):\n",
    "            raise StopIteration\n",
    "        else:\n",
    "            anno_path = self.anno_filenames[self.cnt]\n",
    "            img_path = self.image_filenames[self.cnt]\n",
    "            anno_3d = load_lua(anno_path).numpy().astype(np.float32)\n",
    "            if self.offset:\n",
    "                anno_3d = anno_3d - 1\n",
    "            #img = imread(img_path, flatten=False, mode='RGB')\n",
    "            img = np.array(Image.open(fp=img_path))\n",
    "            self.cnt += 1\n",
    "            return (None, anno_3d), img\n",
    "\n",
    "    def __len__(self):\n",
    "        return len(self.anno_filenames)"
   ]
  },
  {
   "cell_type": "code",
   "execution_count": 171,
   "metadata": {},
   "outputs": [
    {
     "name": "stdout",
     "output_type": "stream",
     "text": [
      "1994\n"
     ]
    }
   ],
   "source": [
    "# load AFLW\n",
    "aflw_dir = '/barn2/yuan/AFLW2000-3D'\n",
    "aflw_iterator = DatasetIterator_AFLW2000(aflw_dir)\n",
    "print(len(aflw_iterator))"
   ]
  },
  {
   "cell_type": "code",
   "execution_count": 172,
   "metadata": {},
   "outputs": [
    {
     "name": "stdout",
     "output_type": "stream",
     "text": [
      "INFO:tensorflow:Restoring parameters from /barn2/yuan/saved_model/3D-FAN-NHWC-0/variables/variables\n"
     ]
    },
    {
     "name": "stderr",
     "output_type": "stream",
     "text": [
      "/home/yuanliu/vroot/lib/python3.6/site-packages/ipykernel_launcher.py:32: DeprecationWarning: `imread` is deprecated!\n",
      "`imread` is deprecated in SciPy 1.0.0.\n",
      "Use ``matplotlib.pyplot.imread`` instead.\n"
     ]
    },
    {
     "data": {
      "image/png": "[encoded data removed]",
      "text/plain": [
       "<Figure size 432x288 with 1 Axes>"
      ]
     },
     "metadata": {
      "needs_background": "light"
     },
     "output_type": "display_data"
    }
   ],
   "source": [
    "nmes = run_benchmark(iterator=aflw_iterator)\n",
    "plot_cdf(np.array(nmes))"
   ]
  },
  {
   "cell_type": "code",
   "execution_count": 183,
   "metadata": {},
   "outputs": [
    {
     "name": "stdout",
     "output_type": "stream",
     "text": [
      "RGB (450, 450) (450, 450, 3)\n",
      "(68, 2)\n",
      "float64\n"
     ]
    }
   ],
   "source": [
    "from PIL import Image\n",
    "path = '/barn2/yuan/AFLW2000-3D-Reannotated/image01649.t7'\n",
    "imp = '/barn2/yuan/AFLW2000-3D-Reannotated/image01649.jpg'\n",
    "dddd = load_lua(path).numpy()\n",
    "im = Image.open(imp)\n",
    "imnp = np.array(im)\n",
    "print(im.mode, im.size, imnp.shape)\n",
    "print(dddd.shape)\n",
    "print(dddd.dtype)"
   ]
  },
  {
   "cell_type": "code",
   "execution_count": 8,
   "metadata": {},
   "outputs": [
    {
     "name": "stdout",
     "output_type": "stream",
     "text": [
      "1998\n",
      "INFO:tensorflow:Restoring parameters from /barn2/yuan/saved_model/3D-FAN-NHWC-0/variables/variables\n"
     ]
    },
    {
     "data": {
      "image/png": "[encoded data removed]",
      "text/plain": [
       "<Figure size 432x288 with 1 Axes>"
      ]
     },
     "metadata": {
      "needs_background": "light"
     },
     "output_type": "display_data"
    }
   ],
   "source": [
    "aflw_dir_re = '/barn2/yuan/AFLW2000-3D-Reannotated'\n",
    "aflw_re_iterator = DatasetIterator_AFLW2000_Re(aflw_dir_re)\n",
    "print(len(aflw_re_iterator))\n",
    "nmes = run_benchmark(iterator=aflw_re_iterator)\n"
   ]
  },
  {
   "cell_type": "code",
   "execution_count": 17,
   "metadata": {},
   "outputs": [
    {
     "data": {
      "image/png": "[encoded data removed]",
      "text/plain": [
       "<Figure size 432x288 with 1 Axes>"
      ]
     },
     "metadata": {
      "needs_background": "light"
     },
     "output_type": "display_data"
    }
   ],
   "source": [
    "plot_cdf(np.array(nmes))"
   ]
  },
  {
   "cell_type": "code",
   "execution_count": 27,
   "metadata": {},
   "outputs": [
    {
     "name": "stdout",
     "output_type": "stream",
     "text": [
      "1998\n",
      "INFO:tensorflow:Restoring parameters from /barn2/yuan/saved_model/3D-FAN-NHWC-0/variables/variables\n"
     ]
    },
    {
     "data": {
      "image/png": "[encoded data removed]",
      "text/plain": [
       "<Figure size 432x288 with 1 Axes>"
      ]
     },
     "metadata": {
      "needs_background": "light"
     },
     "output_type": "display_data"
    }
   ],
   "source": [
    "aflw_dir_re = '/barn2/yuan/AFLW2000-3D-Reannotated'\n",
    "aflw_re_iterator = DatasetIterator_AFLW2000_Re(aflw_dir_re, offset=False)\n",
    "print(len(aflw_re_iterator))\n",
    "nmes = run_benchmark(iterator=aflw_re_iterator)\n",
    "plot_cdf(np.array(nmes))"
   ]
  },
  {
   "cell_type": "code",
   "execution_count": 114,
   "metadata": {},
   "outputs": [],
   "source": [
    "bbx = [1, 2, 3, 4]"
   ]
  },
  {
   "cell_type": "code",
   "execution_count": 115,
   "metadata": {},
   "outputs": [],
   "source": [
    "ymin, xmin, ymax, xmax = bbx"
   ]
  },
  {
   "cell_type": "code",
   "execution_count": 117,
   "metadata": {},
   "outputs": [
    {
     "data": {
      "text/plain": [
       "1"
      ]
     },
     "execution_count": 117,
     "metadata": {},
     "output_type": "execute_result"
    }
   ],
   "source": [
    "ymin\n"
   ]
  }
 ],
 "metadata": {
  "kernelspec": {
   "display_name": "Python 3",
   "language": "python",
   "name": "python3"
  },
  "language_info": {
   "codemirror_mode": {
    "name": "ipython",
    "version": 3
   },
   "file_extension": ".py",
   "mimetype": "text/x-python",
   "name": "python",
   "nbconvert_exporter": "python",
   "pygments_lexer": "ipython3",
   "version": "3.6.6"
  }
 },
 "nbformat": 4,
 "nbformat_minor": 2
}
